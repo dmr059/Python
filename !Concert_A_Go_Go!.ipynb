{
  "nbformat": 4,
  "nbformat_minor": 0,
  "metadata": {
    "colab": {
      "provenance": [],
      "authorship_tag": "ABX9TyOnpDFbIpKTiqufgN3QK0Wt",
      "include_colab_link": true
    },
    "kernelspec": {
      "name": "python3",
      "display_name": "Python 3"
    },
    "language_info": {
      "name": "python"
    }
  },
  "cells": [
    {
      "cell_type": "markdown",
      "metadata": {
        "id": "view-in-github",
        "colab_type": "text"
      },
      "source": [
        "<a href=\"https://colab.research.google.com/github/dmr059/Python/blob/main/!Concert_A_Go_Go!.ipynb\" target=\"_parent\"><img src=\"https://colab.research.google.com/assets/colab-badge.svg\" alt=\"Open In Colab\"/></a>"
      ]
    },
    {
      "cell_type": "markdown",
      "source": [
        "This is a project written in Python to exploring manipulation of data within lists. Having a profound love for music, I thought the best way to experiement with these concepts was to create a fictional music festival.\n",
        "\n",
        "This project incudes:\n",
        "\n",
        "- lists\n",
        "\n",
        "- .sort()/sorted()\n",
        "\n",
        "- list slicing --  front, end, middle\n",
        "\n",
        "- element replacing\n",
        "\n",
        "- len()\n",
        "\n",
        "- .pop()\n",
        "\n",
        "- extended comments \"\"\"\n",
        "\n",
        "- print()"
      ],
      "metadata": {
        "id": "WZLFptR7Ym4w"
      }
    },
    {
      "cell_type": "code",
      "execution_count": 34,
      "metadata": {
        "id": "M-jvd0ZK8BuB",
        "colab": {
          "base_uri": "https://localhost:8080/"
        },
        "outputId": "3eeeb36d-d1c1-48b9-8684-f6085b926080"
      },
      "outputs": [
        {
          "output_type": "stream",
          "name": "stdout",
          "text": [
            "[[2130, 'Anderson .Paak and the Free Nationals'], [1730, 'Nao'], [2000, 'Jungle'], [1845, 'Jordan Rakei']]\n",
            "[[1730, 'Nao'], [1845, 'Jordan Rakei'], [2000, 'Jungle'], [2130, 'Anderson .Paak and the Free Nationals']]\n",
            "[[1845, 'Jordan Rakei'], [2000, 'Jungle'], [2130, 'Anderson .Paak and the Free Nationals']]\n",
            "[[1730, 'Jorja Smith'], [1845, 'Jordan Rakei'], [2000, 'Jungle'], [2130, 'Anderson .Paak and the Free Nationals']]\n",
            "[[1330, 'Kaytranada'], [1445, 'Goldlink'], [1500, 'Dj intermission'], [1600, 'Simino'], [1715, 'Sir'], [2000, 'Tash Sultana'], [2130, 'Masego']]\n",
            "11\n",
            "Friday is Anderson .Paak and the Free Nationals - Saturday is Masego\n",
            "[[1330, 'Kaytranada'], [1445, 'Goldlink'], [1600, 'Simino'], [1715, 'Sir'], [2000, 'Tash Sultana'], [2130, 'Masego']]\n",
            "[[1445, 'Goldlink'], [1600, 'Simino'], [1715, 'Sir']]\n",
            "Mark Year I of Concert A Go-Go was a major success, thank you all to our wonderful preformers and to our outstanding attendees. Looking forward having another Go near year!\n"
          ]
        }
      ],
      "source": [
        "\"\"\" A new music festival is coming to Austin, Tx! Concert A Go-Go is preparing for a weekend of auditory delight and has enlisted the help of a savvy python programmer\n",
        "to keep track of the bands & groups that will be preforming as well as at what time \"\"\"\n",
        "\n",
        "lineup_friday = [[2130, \"Anderson .Paak and the Free Nationals\"], [1730, \"Nao\"], [2000, \"Jungle\"], [1845, \"Jordan Rakei\"]]\n",
        "print(lineup_friday)\n",
        "\n",
        "\"\"\" The original schedule was incredibly confusing for the groups as they were all out of order! \"\"\"\n",
        "\n",
        "lineup_friday.sort()\n",
        "print(lineup_friday)\n",
        "\n",
        "\"\"\" Tom and Milo are attending the show on Fiday but can only make it to the last three preformers. Who will they be seeing? \"\"\"\n",
        "\n",
        "tom_milo = lineup_friday[-3:]\n",
        "print(tom_milo)\n",
        "\n",
        "\"\"\" Unfortunantly at the last minute, Nao was unable to attend but luckily Jorja Smith was able to take Nao's place. \"\"\"\n",
        "\n",
        "lineup_friday[0][1] = \"Jorja Smith\"\n",
        "print(lineup_friday)\n",
        "\n",
        "\"\"\" Friday was a huge success and the festival gears up for Saturday! \"\"\"\n",
        "\n",
        "lineup_saturday = [[2130, \"Masego\"],[1330, \"Kaytranada\"],[1500, \"Dj intermission\"], [1600, \"Simino\"], [1445, \"Goldlink\"], [2000, \"Tash Sultana\"], [1715, \"Sir\"]]\n",
        "sort_sat_lineup = sorted(lineup_saturday)\n",
        "print(sort_sat_lineup)\n",
        "\n",
        "\"\"\" A curious festival goer is wondering how many bands total will be preforming throughout the festival. \"\"\"\n",
        "\n",
        "print(len(sort_sat_lineup) + len(lineup_friday))\n",
        "\n",
        "\"\"\"\" This same curious fellow is wondering who will be preforming on Saturday and Sunday as the main headlines. \"\"\"\n",
        "\n",
        "print(\"Friday is\",lineup_friday[-1][1],\"- Saturday is\",sort_sat_lineup[-1][1])\n",
        "\n",
        "\"\"\" The Dj who was suppose to preform at 1500 on Saturday ran into some tech issues and will unable to preform their set. \"\"\"\n",
        "\n",
        "sort_sat_lineup.pop(2)\n",
        "print(sort_sat_lineup)\n",
        "\n",
        "\"\"\"\" Randa and Monique are excitred to attend but will be missing the opening act and have to leave before the last two preformers. Who will they be seeing? \"\"\"\n",
        "\n",
        "print(sort_sat_lineup[1:4])\n",
        "\n",
        "\"\"\" As the festival comes to a close, celebrating a increbibly successful first year in operation, they thanked all their lovely preformers and attendees. \"\"\"\n",
        "\n",
        "print(\"Mark Year I of Concert A Go-Go was a major success, thank you all to our wonderful preformers and to our outstanding attendees. Looking forward having another Go next year!\")\n",
        "\n",
        "\n",
        "\n",
        "\n",
        "\n",
        "\n"
      ]
    }
  ]
}