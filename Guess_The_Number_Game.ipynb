{
  "nbformat": 4,
  "nbformat_minor": 0,
  "metadata": {
    "colab": {
      "provenance": [],
      "authorship_tag": "ABX9TyMubG8XBxiGeHtONc8MvJ2S",
      "include_colab_link": true
    },
    "kernelspec": {
      "name": "python3",
      "display_name": "Python 3"
    },
    "language_info": {
      "name": "python"
    }
  },
  "cells": [
    {
      "cell_type": "markdown",
      "metadata": {
        "id": "view-in-github",
        "colab_type": "text"
      },
      "source": [
        "<a href=\"https://colab.research.google.com/github/dmr059/Python/blob/main/Guess_The_Number_Game.ipynb\" target=\"_parent\"><img src=\"https://colab.research.google.com/assets/colab-badge.svg\" alt=\"Open In Colab\"/></a>"
      ]
    },
    {
      "cell_type": "code",
      "execution_count": 1,
      "metadata": {
        "colab": {
          "base_uri": "https://localhost:8080/"
        },
        "id": "TwJGXnemjp0n",
        "outputId": "9e06a8a4-5a25-4207-a631-fb9273a94317"
      },
      "outputs": [
        {
          "output_type": "stream",
          "name": "stdout",
          "text": [
            "Hello. What is your name?\n",
            "Dylan\n",
            "Well, Dylan, I am thinking of a number between 1 and 20.\n",
            "Take a guess.\n",
            "5\n",
            "Your guess is too low.\n",
            "Take a guess.\n",
            "10\n",
            "Your guess is too high.\n",
            "Take a guess.\n",
            "8\n",
            "Your guess is too low.\n",
            "Take a guess.\n",
            "9\n",
            "Good job, Dylan, you guessed my number in 4 guessess!\n"
          ]
        }
      ],
      "source": [
        "#This is a \"Guess-the-Number\" game\n",
        "import random\n",
        "print(\"Hello. What is your name?\")\n",
        "name = input()\n",
        "\n",
        "print(\"Well, \" + name + \", I am thinking of a number between 1 and 20.\")\n",
        "secretNumber = random.randint(1, 20)\n",
        "\n",
        "for guessessTaken in range(1, 7):\n",
        "  print(\"Take a guess.\")\n",
        "  guess = int(input())\n",
        "\n",
        "  if guess < secretNumber:\n",
        "    print(\"Your guess is too low.\")\n",
        "  elif guess > secretNumber:\n",
        "    print(\"Your guess is too high.\")\n",
        "  else:\n",
        "    break\n",
        "\n",
        "if guess == secretNumber:\n",
        "  print(\"Good job, \" + name + \", you guessed my number in \" + str(guessessTaken) + \" guessess!\")\n",
        "else:\n",
        "  print(\"Nope. The number I was thinking of was \" + str(secretnumber))"
      ]
    }
  ]
}