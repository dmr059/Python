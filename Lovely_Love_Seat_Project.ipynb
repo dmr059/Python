{
  "nbformat": 4,
  "nbformat_minor": 0,
  "metadata": {
    "colab": {
      "provenance": [],
      "authorship_tag": "ABX9TyNUjy5wNQGDH324o29N51ld",
      "include_colab_link": true
    },
    "kernelspec": {
      "name": "python3",
      "display_name": "Python 3"
    },
    "language_info": {
      "name": "python"
    }
  },
  "cells": [
    {
      "cell_type": "markdown",
      "metadata": {
        "id": "view-in-github",
        "colab_type": "text"
      },
      "source": [
        "<a href=\"https://colab.research.google.com/github/dmr059/Python/blob/main/Lovely_Love_Seat_Project.ipynb\" target=\"_parent\"><img src=\"https://colab.research.google.com/assets/colab-badge.svg\" alt=\"Open In Colab\"/></a>"
      ]
    },
    {
      "cell_type": "markdown",
      "source": [
        "For this project, I created a reciept program that keeps track of the buyer's expenses and items bought with description.\n",
        "\n",
        "The program utilizes:\n",
        "\n",
        "• Multi-line strings\n",
        "\n",
        "• Variable designation\n",
        "\n",
        "• += funtion to variables\n",
        "\n",
        "• print() function"
      ],
      "metadata": {
        "id": "_XRU9nAuwMQC"
      }
    },
    {
      "cell_type": "code",
      "execution_count": null,
      "metadata": {
        "colab": {
          "base_uri": "https://localhost:8080/"
        },
        "id": "ZfLvYJsmj0UL",
        "outputId": "3d6b8d96-09d0-4ac4-b463-8795c2a1115f"
      },
      "outputs": [
        {
          "output_type": "stream",
          "name": "stdout",
          "text": [
            "Customer One Items:\n",
            " Lovely Loveseat. Tufted polyester blend on wood. 32 inches high x 40 inches wide x 30 inches deep. Red or white.  Luxurious Lamp. Glass and iron. 36 inches tall. Brown with cream shade. \n",
            "Customer One Total:\n",
            "333.09119999999996\n"
          ]
        }
      ],
      "source": [
        "lovely_loveseat_description = ''' Lovely Loveseat. Tufted polyester blend on wood. 32 inches high x 40 inches wide x 30 inches deep. Red or white. '''\n",
        "\n",
        "lovely_loveseat_price = 254.00\n",
        "\n",
        "stylish_settee_description = ''' Stylish Settee. Faux leather on birch. 29.50 inches high x 54.75 inches wide x 28 inches deep. Black. '''\n",
        "\n",
        "stylish_settee_price = 180.50\n",
        "\n",
        "luxurious_lamp_description = ''' Luxurious Lamp. Glass and iron. 36 inches tall. Brown with cream shade. '''\n",
        "\n",
        "luxurious_lamp_price = 52.15\n",
        "\n",
        "sales_tax = .088\n",
        "\n",
        "customer_one_total = 0\n",
        "customer_one_itemization = \"\"\n",
        "customer_one_total += 254.00\n",
        "customer_one_itemization += ''' Lovely Loveseat. Tufted polyester blend on wood. 32 inches high x 40 inches wide x 30 inches deep. Red or white. '''\n",
        "\n",
        "customer_one_total += 52.15\n",
        "customer_one_itemization += ''' Luxurious Lamp. Glass and iron. 36 inches tall. Brown with cream shade. '''\n",
        "\n",
        "customer_one_tax = customer_one_total * sales_tax\n",
        "\n",
        "customer_one_total += customer_one_tax\n",
        "\n",
        "print(\"Customer One Items:\")\n",
        "print(customer_one_itemization)\n",
        "\n",
        "print(\"Customer One Total:\")\n",
        "print(customer_one_total)"
      ]
    },
    {
      "cell_type": "markdown",
      "source": [],
      "metadata": {
        "id": "yCA01srB1fnm"
      }
    }
  ]
}