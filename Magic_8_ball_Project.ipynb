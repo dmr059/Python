{
  "nbformat": 4,
  "nbformat_minor": 0,
  "metadata": {
    "colab": {
      "provenance": [],
      "authorship_tag": "ABX9TyN9urPdLDtal8RwuWW4Z5Wa",
      "include_colab_link": true
    },
    "kernelspec": {
      "name": "python3",
      "display_name": "Python 3"
    },
    "language_info": {
      "name": "python"
    }
  },
  "cells": [
    {
      "cell_type": "markdown",
      "metadata": {
        "id": "view-in-github",
        "colab_type": "text"
      },
      "source": [
        "<a href=\"https://colab.research.google.com/github/dmr059/Python/blob/main/Magic_8_ball_Project.ipynb\" target=\"_parent\"><img src=\"https://colab.research.google.com/assets/colab-badge.svg\" alt=\"Open In Colab\"/></a>"
      ]
    },
    {
      "cell_type": "markdown",
      "source": [
        "For this project, I created a \"Magic 8-Ball\" program that takes in a question by the user and utilizes a random number function to then tell them an answer.\n",
        "\n",
        "This program utilizes:\n",
        "\n",
        "• imporantion of the random module\n",
        "\n",
        "• input() funtion\n",
        "\n",
        "• if/elif/else statment\n",
        "\n",
        "• print() function"
      ],
      "metadata": {
        "id": "G5Fi7oE4uxiz"
      }
    },
    {
      "cell_type": "code",
      "execution_count": 3,
      "metadata": {
        "id": "HT_okvMET8dW",
        "outputId": "b31c2416-f7bf-4009-f7e8-4636b1db12b2",
        "colab": {
          "base_uri": "https://localhost:8080/"
        }
      },
      "outputs": [
        {
          "output_type": "stream",
          "name": "stdout",
          "text": [
            "What is your name? Dylan\n",
            "What yes or no question is on your mind? Did the cow jump over the moon?\n",
            "Dylan asks: Did the cow jump over the moon?\n",
            "Magic 8-ball's answer: \n",
            "Very doubtful\n"
          ]
        }
      ],
      "source": [
        "import random\n",
        "\n",
        "\n",
        "\n",
        "name = input(\"What is your name? \")\n",
        "question = input(\"What yes or no question is on your mind? \")\n",
        "answer = \"\"\n",
        "\n",
        "print(name + \" asks: \" + question)\n",
        "print(\"Magic 8-ball's answer: \" + answer)\n",
        "\n",
        "random_number = random.randint(1,9)\n",
        "\n",
        "if random_number == 1:\n",
        "  print(\"Yes - definitely\")\n",
        "elif random_number == 2:\n",
        "  print(\"It is decidedly so\")\n",
        "elif random_number == 3:\n",
        "  print(\"Without a doubt\")\n",
        "elif random_number == 4:\n",
        "  print(\"Reply hazy, try again\")\n",
        "elif random_number == 5:\n",
        "  print(\"Ask again later\")\n",
        "elif random_number == 6:\n",
        "  print(\"Better not tell you now\")\n",
        "elif random_number == 7:\n",
        "  print(\"My sources say no\")\n",
        "elif random_number == 8:\n",
        "  print(\"Outlook not so good\")\n",
        "elif random_number == 9:\n",
        "  print(\"Very doubtful\")\n",
        "else:\n",
        "  print(\"Error\")\n"
      ]
    }
  ]
}