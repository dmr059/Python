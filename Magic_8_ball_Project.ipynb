{
  "nbformat": 4,
  "nbformat_minor": 0,
  "metadata": {
    "colab": {
      "provenance": [],
      "authorship_tag": "ABX9TyOyopDvpP10ahsGDivd2xpA",
      "include_colab_link": true
    },
    "kernelspec": {
      "name": "python3",
      "display_name": "Python 3"
    },
    "language_info": {
      "name": "python"
    }
  },
  "cells": [
    {
      "cell_type": "markdown",
      "metadata": {
        "id": "view-in-github",
        "colab_type": "text"
      },
      "source": [
        "<a href=\"https://colab.research.google.com/github/rubbrbanana/Python/blob/main/Magic_8_ball_Project.ipynb\" target=\"_parent\"><img src=\"https://colab.research.google.com/assets/colab-badge.svg\" alt=\"Open In Colab\"/></a>"
      ]
    },
    {
      "cell_type": "code",
      "execution_count": null,
      "metadata": {
        "colab": {
          "base_uri": "https://localhost:8080/"
        },
        "id": "HT_okvMET8dW",
        "outputId": "46fbaca5-38d1-4e82-a054-888ad411b29a"
      },
      "outputs": [
        {
          "output_type": "stream",
          "name": "stdout",
          "text": [
            "What is your name?Dylan\n",
            "Dylan asks: Is my cat an asshole?\n",
            "Magic 8-ball's answer:\n",
            "Outlook not so good\n"
          ]
        }
      ],
      "source": [
        "import random\n",
        "\n",
        "\n",
        "\n",
        "name = input(\"What is your name?\")\n",
        "question = \"Is my cat an asshole?\"\n",
        "answer = \"\"\n",
        "\n",
        "print(name + \" asks: \" + question)\n",
        "print(\"Magic 8-ball's answer:\" + answer)\n",
        "\n",
        "random_number = random.randint(1,9)\n",
        "\n",
        "if random_number == 1:\n",
        "  print(\"Yes - definitely\")\n",
        "elif random_number == 2:\n",
        "  print(\"It is decidedly so\")\n",
        "elif random_number == 3:\n",
        "  print(\"Without a doubt\")\n",
        "elif random_number == 4:\n",
        "  print(\"Reply hazy, try again\")\n",
        "elif random_number == 5:\n",
        "  print(\"Ask again later\")\n",
        "elif random_number == 6:\n",
        "  print(\"Better not tell you now\")\n",
        "elif random_number == 7:\n",
        "  print(\"My sources say no\")\n",
        "elif random_number == 8:\n",
        "  print(\"Outlook not so good\")\n",
        "elif random_number == 9:\n",
        "  print(\"Very doubtful\")\n",
        "else:\n",
        "  print(\"Error\")\n"
      ]
    }
  ]
}