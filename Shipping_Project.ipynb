{
  "nbformat": 4,
  "nbformat_minor": 0,
  "metadata": {
    "colab": {
      "provenance": [],
      "authorship_tag": "ABX9TyNA/acWjDnHhA8mBW1v7tOU",
      "include_colab_link": true
    },
    "kernelspec": {
      "name": "python3",
      "display_name": "Python 3"
    },
    "language_info": {
      "name": "python"
    }
  },
  "cells": [
    {
      "cell_type": "markdown",
      "metadata": {
        "id": "view-in-github",
        "colab_type": "text"
      },
      "source": [
        "<a href=\"https://colab.research.google.com/github/dmr059/Python/blob/main/Shipping_Project.ipynb\" target=\"_parent\"><img src=\"https://colab.research.google.com/assets/colab-badge.svg\" alt=\"Open In Colab\"/></a>"
      ]
    },
    {
      "cell_type": "markdown",
      "source": [
        "Within this project, I created a program written in Python that takes in the weight of a package that then will tell the user which method is the most cost effective for deliverying a package via the shipping company.\n",
        "\n",
        "This program utilizes:\n",
        "\n",
        "• if/elif/else statements\n",
        "\n",
        "• print functions\n",
        "\n",
        "• Variable designation\n",
        "\n",
        "• Comments\n",
        "\n",
        "• Converstion of an int into a str\n"
      ],
      "metadata": {
        "id": "zJh8pVmFtYqJ"
      }
    },
    {
      "cell_type": "code",
      "execution_count": null,
      "metadata": {
        "colab": {
          "base_uri": "https://localhost:8080/"
        },
        "id": "fJRv98ofjFxm",
        "outputId": "62c01e5c-94d0-4813-dad9-4d66ef087c50"
      },
      "outputs": [
        {
          "output_type": "stream",
          "name": "stdout",
          "text": [
            "Standard Ground Shipping: $35.0\n",
            "Premium Ground Shipping: $125.0\n",
            "Drone Shipping: $45.0\n"
          ]
        }
      ],
      "source": [
        "weight = 5\n",
        "cost_ground = []\n",
        "\n",
        "# Premium Ground Shipping\n",
        "\n",
        "premium_grnd_ship = 125.00\n",
        "\n",
        "\n",
        "# Ground Shipping\n",
        "\n",
        "if weight <= 2:\n",
        "  cost_ground = weight * 1.50 + 20\n",
        "elif weight <= 6:\n",
        "  cost_ground = weight * 3.00 + 20\n",
        "elif weight <= 10:\n",
        "  cost_ground = weight * 4.00 + 20\n",
        "elif weight >= 10:\n",
        "  cost_ground = weight * 4.75 + 20\n",
        "else:\n",
        "  print(\"Error\")\n",
        "\n",
        "print(\"Standard Ground Shipping: $\" + str(cost_ground))\n",
        "\n",
        "print(\"Premium Ground Shipping: $\" + str(premium_grnd_ship))\n",
        "\n",
        "\n",
        "# Drone Shipping\n",
        "\n",
        "cost_drone = []\n",
        "\n",
        "if weight <= 2:\n",
        "  cost_drone = weight * 4.50\n",
        "elif weight <= 6:\n",
        "  cost_drone = weight * 9.00\n",
        "elif weight <= 10:\n",
        "  cost_drone = weight * 12.00\n",
        "elif weight >= 10:\n",
        "  cost_drone = weight * 14.25\n",
        "else:\n",
        "  print(\"Error\")\n",
        "\n",
        "print(\"Drone Shipping: $\" + str(cost_drone))"
      ]
    }
  ]
}